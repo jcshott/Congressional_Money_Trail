{
 "cells": [
  {
   "cell_type": "markdown",
   "metadata": {},
   "source": [
    "Looking at political contribution to better understand distribution of giving"
   ]
  },
  {
   "cell_type": "code",
   "execution_count": 3,
   "metadata": {
    "collapsed": true
   },
   "outputs": [],
   "source": [
    "import sqlite3\n",
    "import matplotlib\n",
    "import numpy as np\n",
    "import matplotlib.pyplot as plt\n",
    "import seaborn as sns\n",
    "%matplotlib inline"
   ]
  },
  {
   "cell_type": "code",
   "execution_count": 4,
   "metadata": {
    "collapsed": true
   },
   "outputs": [],
   "source": [
    "#connect to database\n",
    "connection = sqlite3.connect(\"contributions.db\")\n",
    "cursor = connection.cursor()\n",
    "\n",
    "#start will all individual donations to members of congress\n",
    "cursor.execute(\"select amount from contrib_legislators\")\n",
    "results = cursor.fetchall()"
   ]
  },
  {
   "cell_type": "code",
   "execution_count": 5,
   "metadata": {
    "collapsed": false
   },
   "outputs": [
    {
     "name": "stdout",
     "output_type": "stream",
     "text": [
      "3949590\n"
     ]
    }
   ],
   "source": [
    "#put results (first item of returned tuples) into a list\n",
    "res_list = []\n",
    "for res in results:\n",
    "    res_list.append(res[0])\n",
    "print len(res_list)\n",
    "\n",
    "res_sorted = sorted(res_list)\n",
    "\n"
   ]
  },
  {
   "cell_type": "code",
   "execution_count": 7,
   "metadata": {
    "collapsed": false
   },
   "outputs": [
    {
     "name": "stdout",
     "output_type": "stream",
     "text": [
      "Mean:  1208.07391172\n",
      "Median:  500.0\n",
      "25th pct: 250.000000\n",
      "50th pct: 500.000000\n",
      "75th pct: 1000.000000\n",
      "90th: 2400.000000\n",
      "95th: 2500.000000\n",
      "99th: 5000.000000\n",
      "Min: -207732\n",
      "Max: 5000000\n"
     ]
    }
   ],
   "source": [
    "# get mean, median, percentiles\n",
    "\n",
    "a = np.array(res_list)\n",
    "\n",
    "me = np.mean(a)\n",
    "print \"Mean: \", me\n",
    "\n",
    "md = np.median(a)\n",
    "print \"Median: \", md\n",
    "\n",
    "pct_25=np.percentile(a, 25)\n",
    "pct_50=np.percentile(a, 50)\n",
    "pct_75=np.percentile(a, 75)\n",
    "pct_90=np.percentile(a, 90)\n",
    "pct_95=np.percentile(a, 95)\n",
    "pct_99=np.percentile(a, 99)\n",
    "\n",
    "print \"25th pct: %f\\n50th pct: %f\\n75th pct: %f\\n90th: %f\\n95th: %f\\n99th: %f\" % (pct_25, pct_50, pct_75, pct_90, pct_95, pct_99)\n",
    "\n",
    "print \"Min: %d\" % (np.min(a))\n",
    "print \"Max: %d\" % (np.max(a))"
   ]
  },
  {
   "cell_type": "markdown",
   "metadata": {},
   "source": [
    "Info on just individual contributions to Members of Congress"
   ]
  },
  {
   "cell_type": "code",
   "execution_count": 5,
   "metadata": {
    "collapsed": false
   },
   "outputs": [],
   "source": [
    "#get indiv. donations to legislators\n",
    "cursor.execute(\"select contrib_legislators.amount from contrib_legislators JOIN contributors USING (contrib_id) where contributors.contrib_type = 'I'\")\n",
    "results = cursor.fetchall()"
   ]
  },
  {
   "cell_type": "code",
   "execution_count": 8,
   "metadata": {
    "collapsed": false
   },
   "outputs": [
    {
     "name": "stdout",
     "output_type": "stream",
     "text": [
      "2988349\n"
     ]
    }
   ],
   "source": [
    "#put results (first item of returned tuples) into a list\n",
    "indiv_list = []\n",
    "for res in results:\n",
    "    indiv_list.append(res[0])\n",
    "print len(indiv_list)\n",
    "\n",
    "indiv_sorted = sorted(indiv_list)"
   ]
  },
  {
   "cell_type": "code",
   "execution_count": 9,
   "metadata": {
    "collapsed": false
   },
   "outputs": [
    {
     "name": "stdout",
     "output_type": "stream",
     "text": [
      "Mean:  779.667195498\n",
      "Median:  500.0\n",
      "25th pct: 250.000000\n",
      "50th pct: 500.000000\n",
      "75th pct: 1000.000000\n",
      "90th: 2000.000000\n",
      "95th: 2400.000000\n",
      "99th: 2600.000000\n",
      "Min: -150000\n",
      "Max: 2000000\n"
     ]
    }
   ],
   "source": [
    "# get mean, median, percentiles\n",
    "\n",
    "a = np.array(indiv_list)\n",
    "\n",
    "me = np.mean(a)\n",
    "print \"Mean: \", me\n",
    "\n",
    "md = np.median(a)\n",
    "print \"Median: \", md\n",
    "\n",
    "pct_25=np.percentile(a, 25)\n",
    "pct_50=np.percentile(a, 50)\n",
    "pct_75=np.percentile(a, 75)\n",
    "pct_90=np.percentile(a, 90)\n",
    "pct_95=np.percentile(a, 95)\n",
    "pct_99=np.percentile(a, 99)\n",
    "\n",
    "print \"25th pct: %f\\n50th pct: %f\\n75th pct: %f\\n90th: %f\\n95th: %f\\n99th: %f\" % (pct_25, pct_50, pct_75, pct_90, pct_95, pct_99)\n",
    "\n",
    "print \"Min: %d\" % (np.min(a))\n",
    "print \"Max: %d\" % (np.max(a))"
   ]
  },
  {
   "cell_type": "code",
   "execution_count": 10,
   "metadata": {
    "collapsed": false
   },
   "outputs": [
    {
     "name": "stdout",
     "output_type": "stream",
     "text": [
      "10\n"
     ]
    }
   ],
   "source": [
    "#count how many 1 million +\n",
    "great_mil = []\n",
    "\n",
    "for item in indiv_list:\n",
    "    if item >= 1000000:\n",
    "        great_mil.append(item)\n",
    "        \n",
    "print len(great_mil)"
   ]
  },
  {
   "cell_type": "code",
   "execution_count": 11,
   "metadata": {
    "collapsed": false
   },
   "outputs": [
    {
     "name": "stdout",
     "output_type": "stream",
     "text": [
      "769\n"
     ]
    }
   ],
   "source": [
    "#find how many donations $10 thousand +\n",
    "great_tenthou = []\n",
    "\n",
    "for item in indiv_list:\n",
    "    if item >= 10000:\n",
    "        great_tenthou.append(item)\n",
    "        \n",
    "print len(great_tenthou)"
   ]
  },
  {
   "cell_type": "code",
   "execution_count": 12,
   "metadata": {
    "collapsed": false
   },
   "outputs": [
    {
     "name": "stdout",
     "output_type": "stream",
     "text": [
      "7111\n"
     ]
    }
   ],
   "source": [
    "#count how many 5 thousand +\n",
    "great_fivethou = []\n",
    "\n",
    "for item in indiv_list:\n",
    "    if item >= 5000:\n",
    "        great_fivethou.append(item)\n",
    "        \n",
    "print len(great_fivethou)"
   ]
  },
  {
   "cell_type": "code",
   "execution_count": 14,
   "metadata": {
    "collapsed": false
   },
   "outputs": [
    {
     "name": "stdout",
     "output_type": "stream",
     "text": [
      "1127285\n"
     ]
    }
   ],
   "source": [
    "#count how many one thousand +\n",
    "great_onethou = []\n",
    "\n",
    "for item in indiv_list:\n",
    "    if item >= 1000:\n",
    "        great_onethou.append(item)\n",
    "        \n",
    "print len(great_onethou)"
   ]
  },
  {
   "cell_type": "code",
   "execution_count": 15,
   "metadata": {
    "collapsed": false
   },
   "outputs": [
    {
     "name": "stdout",
     "output_type": "stream",
     "text": [
      "2545255\n"
     ]
    }
   ],
   "source": [
    "#count how many one thousand and below\n",
    "less_onethou = []\n",
    "\n",
    "for item in indiv_list:\n",
    "    if item <= 1000:\n",
    "        less_onethou.append(item)\n",
    "        \n",
    "print len(less_onethou)"
   ]
  },
  {
   "cell_type": "code",
   "execution_count": 21,
   "metadata": {
    "collapsed": false
   },
   "outputs": [
    {
     "data": {
      "image/png": "[encoded data removed]",
      "text/plain": [
       "<matplotlib.figure.Figure at 0x1114c4f90>"
      ]
     },
     "metadata": {},
     "output_type": "display_data"
    }
   ],
   "source": [
    "#plot histogram of individual contributions.  \n",
    "sns.set_style(\"white\")\n",
    "sns.despine(left=True)\n",
    "\n",
    "plt.hist(great_fivethou, bins=50)\n",
    "plt.show()"
   ]
  },
  {
   "cell_type": "code",
   "execution_count": null,
   "metadata": {
    "collapsed": true
   },
   "outputs": [],
   "source": []
  }
 ],
 "metadata": {
  "kernelspec": {
   "display_name": "Python 2",
   "language": "python",
   "name": "python2"
  },
  "language_info": {
   "codemirror_mode": {
    "name": "ipython",
    "version": 2
   },
   "file_extension": ".py",
   "mimetype": "text/x-python",
   "name": "python",
   "nbconvert_exporter": "python",
   "pygments_lexer": "ipython2",
   "version": "2.7.10"
  }
 },
 "nbformat": 4,
 "nbformat_minor": 0
}
